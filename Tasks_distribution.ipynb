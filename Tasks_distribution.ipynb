{
 "cells": [
  {
   "cell_type": "code",
   "execution_count": 1,
   "id": "d1a0bdaf",
   "metadata": {},
   "outputs": [
    {
     "data": {
      "text/html": [
       "<style>.container { width:100% !important; }</style>"
      ],
      "text/plain": [
       "<IPython.core.display.HTML object>"
      ]
     },
     "metadata": {},
     "output_type": "display_data"
    }
   ],
   "source": [
    "from IPython.core.display import display, HTML\n",
    "display(HTML('<style>.container { width:100% !important; }</style>'))"
   ]
  },
  {
   "cell_type": "code",
   "execution_count": 161,
   "id": "9924c005",
   "metadata": {},
   "outputs": [],
   "source": [
    "import numpy as np\n",
    "import matplotlib.pyplot as plt\n",
    "import tqdm.notebook as tqdm"
   ]
  },
  {
   "cell_type": "code",
   "execution_count": 310,
   "id": "364319d0",
   "metadata": {},
   "outputs": [],
   "source": [
    "with open('input.txt') as f:\n",
    "    N = int(f.readline())\n",
    "    task_complexity = np.array(list(map(int, f.readline().split())))\n",
    "    execution_time = np.array(list(map(float, f.readline().split())))\n",
    "    M, dev_coefs = int(f.readline()), np.array([list(map(float, line.split())) for line in f.readlines()])"
   ]
  },
  {
   "cell_type": "code",
   "execution_count": 336,
   "id": "789e45a6",
   "metadata": {},
   "outputs": [],
   "source": [
    "class TaskDist:\n",
    "    \n",
    "    rng = np.random.default_rng()\n",
    "    \n",
    "    def __init__(self, complexity: np.ndarray, exec_time: np.ndarray, dev_coefs: np.ndarray, dev_count: int, population_size: int, individ_size: int, k_best: int, tourn_count: int, tourn_size: int, tourn_p: float,\n",
    "                 mutation_prob: float):\n",
    "        self.complexity = complexity\n",
    "        self.exec_time = exec_time\n",
    "        self.dev_coefs = dev_coefs\n",
    "        self.dev_count = dev_count\n",
    "        self.population_size = population_size\n",
    "        self.individ_size = individ_size\n",
    "        self.k_best = k_best\n",
    "        self.tourn_count = tourn_count\n",
    "        self.tourn_size = tourn_size\n",
    "        self.tourn_p = tourn_p\n",
    "        self.mutation_prob = mutation_prob\n",
    "        self._fitness = None\n",
    "        self.population = np.array([TaskDist.rng.integers(dev_count, size=individ_size) for _ in range(population_size)])\n",
    "        \n",
    "    def fitness(self) -> np.ndarray:\n",
    "        if self._fitness is not None:\n",
    "            return self._fitness\n",
    "        \n",
    "        self._fitness = np.array([np.max([self.dev_coefs[j][self.complexity[self.population[i] == j] - 1] @ self.exec_time[self.population[i] == j] for j in range(self.dev_count)]) for i in range(self.population_size)])\n",
    "        \n",
    "#         for i in range(self.population):\n",
    "#             dev_time = np.max([self.dev_coefs[j][self.complexity[self.population[i] == j] - 1] @ self.exec_time[self.population[i] == j] for j in range(self.dev_count)])\n",
    "        \n",
    "#         self._fitness = np.array([self.dev_coefs[self.population[i]][np.arange(N), (self.complexity - 1)] @ self.exec_time for i in range(self.population.shape[0])])\n",
    "        \n",
    "        return self._fitness\n",
    "    \n",
    "    def selection(self):\n",
    "        new_inds = np.zeros(self.k_best + self.tourn_count, dtype=int)\n",
    "        free_inds = np.ones(self.population_size, dtype=int)\n",
    "        \n",
    "        if self.k_best > 0:\n",
    "            inds = np.argsort(self.fitness())[:self.k_best]\n",
    "            new_inds[-self.k_best:] = inds\n",
    "            free_inds[inds] = 0\n",
    "        \n",
    "        for i in range(self.tourn_count):\n",
    "            inds = TaskDist.rng.choice(self.population_size, size=self.tourn_size, p=free_inds / np.sum(free_inds))\n",
    "            party_inds = inds[np.argsort(self.fitness()[inds])]\n",
    "\n",
    "            for ind in party_inds:\n",
    "                if TaskDist.rng.random() < self.tourn_p:\n",
    "                    new_inds[i] = ind\n",
    "                    break\n",
    "            else:\n",
    "                new_inds[i] = party_inds[-1]\n",
    "\n",
    "            free_inds[new_inds[i]] = 0\n",
    "        \n",
    "        self.survivors = self.population[new_inds]\n",
    "            \n",
    "    def crossover(self):\n",
    "        self.offsprings = []\n",
    "        \n",
    "        for _ in range(self.population.shape[0] - self.survivors.shape[0]):\n",
    "            k1, k2 = TaskDist.rng.integers(0, self.individ_size // 2, size=1)[0], TaskDist.rng.integers(self.individ_size // 2, self.individ_size, size=1)[0]\n",
    "            parent1, parent2 = TaskDist.rng.choice(self.survivors, size=2, replace=False)\n",
    "            \n",
    "            offspring1, offspring2 = parent1.copy(), parent2.copy()\n",
    "            offspring1[k1:k2], offspring2[k1:k2] = offspring2[k1:k2], offspring1[k1:k2]\n",
    "\n",
    "            self.offsprings.append(TaskDist.rng.choice([offspring1, offspring2], size=1)[0])\n",
    "            \n",
    "        self.offsprings = np.array(self.offsprings)\n",
    "    \n",
    "    def mutation(self):\n",
    "        for i in range(self.offsprings.shape[0]):\n",
    "            if TaskDist.rng.random() < self.mutation_prob:\n",
    "                j = TaskDist.rng.integers(self.individ_size, size=1)\n",
    "                self.offsprings[i, j] = TaskDist.rng.integers(self.dev_count, size=1)\n",
    "    \n",
    "    def step(self):\n",
    "        self.selection()\n",
    "        self.crossover()\n",
    "        self.mutation()\n",
    "        \n",
    "        self.population = np.concatenate([self.survivors, self.offsprings], axis=0)\n",
    "        self._fitness = None\n",
    "        "
   ]
  },
  {
   "cell_type": "code",
   "execution_count": 401,
   "id": "839401b3",
   "metadata": {},
   "outputs": [],
   "source": [
    "taskDist = TaskDist(task_complexity, execution_time, dev_coefs, M, 500, N, 5, 10, 5, 0.7, 0.5)"
   ]
  },
  {
   "cell_type": "code",
   "execution_count": 402,
   "id": "290c070d",
   "metadata": {},
   "outputs": [
    {
     "data": {
      "application/vnd.jupyter.widget-view+json": {
       "model_id": "4c8147d9846e4ae985b99ac30685ddc1",
       "version_major": 2,
       "version_minor": 0
      },
      "text/plain": [
       "  0%|          | 0/10000 [00:00<?, ?it/s]"
      ]
     },
     "metadata": {},
     "output_type": "display_data"
    }
   ],
   "source": [
    "pbar = tqdm.trange(10000)\n",
    "pbar.set_description(f'{np.min(taskDist.fitness())}')\n",
    "\n",
    "for _ in pbar:\n",
    "    taskDist.step()\n",
    "    pbar.set_description(f'{np.min(taskDist.fitness())}')"
   ]
  },
  {
   "cell_type": "code",
   "execution_count": 406,
   "id": "6f64be08",
   "metadata": {},
   "outputs": [],
   "source": [
    "np.savetxt('output.txt', taskDist.population[np.argsort(taskDist.fitness())][0], newline = ' ', fmt='%.0f')"
   ]
  },
  {
   "cell_type": "code",
   "execution_count": 409,
   "id": "f846cc27",
   "metadata": {},
   "outputs": [],
   "source": [
    "np.savetxt('output.txt', taskDist.population[np.argsort(taskDist.fitness())][0] + 1, newline = ' ', fmt='%.0f')"
   ]
  },
  {
   "cell_type": "code",
   "execution_count": 403,
   "id": "906b7f8f",
   "metadata": {},
   "outputs": [
    {
     "data": {
      "text/plain": [
       "0.1657550140891762"
      ]
     },
     "execution_count": 403,
     "metadata": {},
     "output_type": "execute_result"
    }
   ],
   "source": [
    "1e6 / 603.3 / 10000"
   ]
  }
 ],
 "metadata": {
  "kernelspec": {
   "display_name": "Python 3 (ipykernel)",
   "language": "python",
   "name": "python3"
  },
  "language_info": {
   "codemirror_mode": {
    "name": "ipython",
    "version": 3
   },
   "file_extension": ".py",
   "mimetype": "text/x-python",
   "name": "python",
   "nbconvert_exporter": "python",
   "pygments_lexer": "ipython3",
   "version": "3.8.5"
  }
 },
 "nbformat": 4,
 "nbformat_minor": 5
}
